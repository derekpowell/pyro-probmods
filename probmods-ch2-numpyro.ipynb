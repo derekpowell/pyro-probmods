{
 "cells": [
  {
   "cell_type": "markdown",
   "id": "interested-sally",
   "metadata": {},
   "source": [
    "# Probmods: Chapter 2\n",
    "\n",
    "In this notebook I will translate a selection of the example code snippets from the probmods book into numpyro. The original book is written using webPPL, and is available at https://probmods.org/."
   ]
  },
  {
   "cell_type": "code",
   "execution_count": 672,
   "id": "killing-interval",
   "metadata": {},
   "outputs": [],
   "source": [
    "import numpyro\n",
    "import numpyro.distributions as dist\n",
    "from numpyro import handlers\n",
    "from numpyro.infer import SA, MCMC, Predictive, NUTS, DiscreteHMCGibbs\n",
    "\n",
    "import numpy as np\n",
    "import jax.numpy as jnp\n",
    "import jax\n",
    "\n",
    "import seaborn as sns\n",
    "from functools import partial"
   ]
  },
  {
   "cell_type": "code",
   "execution_count": 92,
   "id": "assumed-governor",
   "metadata": {},
   "outputs": [],
   "source": [
    "def flip(p=None):\n",
    "    if p==None: p=.5\n",
    "    return numpyro.sample(\"coin\", dist.Bernoulli(jnp.array(p)))"
   ]
  },
  {
   "cell_type": "markdown",
   "id": "finite-diploma",
   "metadata": {},
   "source": [
    "We can define functions just like that but there is no global state in `numpyro` so we can't just call our function without passing it a `PRNGKey` that specifies the state of the random number generator. Unfortunately that mucks with the syntax quite a bit, making things very unlike `webPPL`. For the simple examples here, my solution is to just create some kludgy wrapper functions to use the old-school numpy random number generator. \n",
    "\n",
    "I'm creating a function `make_random()` that takes a function and returns a version of it wrapped in `handlers.seed()` with a randomly initialized `PRNGKey()`. This little function won't behave properly inside of a true program doing inference, but it's useful for these examples. \n",
    "\n",
    "So what we do is 1) define a probabilistic function we want, 2) pass that function into the `make_random()` function to create stochastic version of it. I'll use the convention of adding an `_` to the function names for the random version, so `flip() --> _flip()` below."
   ]
  },
  {
   "cell_type": "code",
   "execution_count": 668,
   "id": "extended-auckland",
   "metadata": {},
   "outputs": [
    {
     "data": {
      "text/plain": [
       "DeviceArray(1, dtype=int32)"
      ]
     },
     "execution_count": 668,
     "metadata": {},
     "output_type": "execute_result"
    }
   ],
   "source": [
    "def make_random(fn):\n",
    "    key = jax.random.PRNGKey(np.random.randint(0, 1e6))\n",
    "    return handlers.seed(fn, rng_seed=key)\n",
    "\n",
    "_flip = make_random(flip)\n",
    "\n",
    "_flip(.5)"
   ]
  },
  {
   "cell_type": "markdown",
   "id": "unknown-statement",
   "metadata": {},
   "source": [
    "Often we want to call our stochastic function many times to observe its behavior. I've created a wrapper `repeat_func()` to do this and munge some vector shapes."
   ]
  },
  {
   "cell_type": "code",
   "execution_count": 669,
   "id": "functioning-lodge",
   "metadata": {},
   "outputs": [
    {
     "data": {
      "text/plain": [
       "<AxesSubplot:ylabel='Count'>"
      ]
     },
     "execution_count": 669,
     "metadata": {},
     "output_type": "execute_result"
    },
    {
     "data": {
      "image/png": "[encoded data removed]",
      "text/plain": [
       "<Figure size 432x288 with 1 Axes>"
      ]
     },
     "metadata": {
      "needs_background": "light"
     },
     "output_type": "display_data"
    }
   ],
   "source": [
    "def repeat_func(n, fn, *args):\n",
    "    return jnp.stack([fn(*args) for _ in range(0,n)])\n",
    "\n",
    "sns.histplot(repeat_func(100, _flip, .8))"
   ]
  },
  {
   "cell_type": "markdown",
   "id": "nutritional-treaty",
   "metadata": {},
   "source": [
    "Outside an inference context, the stochastic `_flip()` behaves just like the webPPL `flip()`"
   ]
  },
  {
   "cell_type": "code",
   "execution_count": 670,
   "id": "chemical-candy",
   "metadata": {},
   "outputs": [
    {
     "data": {
      "text/plain": [
       "DeviceArray(2, dtype=int32)"
      ]
     },
     "execution_count": 670,
     "metadata": {},
     "output_type": "execute_result"
    }
   ],
   "source": [
    "_flip() + _flip() + _flip()"
   ]
  },
  {
   "cell_type": "code",
   "execution_count": 671,
   "id": "adult-defense",
   "metadata": {},
   "outputs": [
    {
     "data": {
      "text/plain": [
       "<AxesSubplot:ylabel='Count'>"
      ]
     },
     "execution_count": 671,
     "metadata": {},
     "output_type": "execute_result"
    },
    {
     "data": {
      "image/png": "[encoded data removed]",
      "text/plain": [
       "<Figure size 432x288 with 1 Axes>"
      ]
     },
     "metadata": {
      "needs_background": "light"
     },
     "output_type": "display_data"
    }
   ],
   "source": [
    "def sumFlips():\n",
    "    return _flip() + _flip() + _flip()\n",
    "\n",
    "sns.histplot(repeat_func(100, sumFlips))"
   ]
  },
  {
   "cell_type": "markdown",
   "id": "intellectual-syndication",
   "metadata": {},
   "source": [
    "We can use the `partial()` python function to create stochastic functions with fixed arguments."
   ]
  },
  {
   "cell_type": "code",
   "execution_count": 673,
   "id": "religious-vacuum",
   "metadata": {},
   "outputs": [
    {
     "data": {
      "text/plain": [
       "{'cough': DeviceArray(1, dtype=int32),\n",
       " 'fever': DeviceArray(1, dtype=int32),\n",
       " 'chestPain': DeviceArray(1, dtype=int32),\n",
       " 'shortnessOfBreath': DeviceArray(1, dtype=int32)}"
      ]
     },
     "execution_count": 673,
     "metadata": {},
     "output_type": "execute_result"
    }
   ],
   "source": [
    "lungCancer = partial(_flip,.01)\n",
    "TB = partial(_flip,.005)\n",
    "stomachFlu = partial(_flip,.1)\n",
    "cold = partial(_flip,.2)\n",
    "other = partial(_flip,.1)\n",
    "\n",
    "cough = (cold and _flip(.5)) or (lungCancer and _flip(.3)) or (TB and _flip(.7)) or (other and _flip(.01))\n",
    "\n",
    "fever = (cold and _flip(.3)) or (stomachFlu and _flip(.5)) or (TB and _flip(.1)) or (other and _flip(.01))\n",
    "\n",
    "chestPain = (cold and _flip(.5)) or (TB and _flip(.5)) or (other and _flip(.01))\n",
    "\n",
    "shortnessOfBreath = (lungCancer and _flip(.5)) or (TB and _flip(.2)) or (other and _flip(.01))\n",
    "\n",
    "symptoms = {\"cough\":cough, \"fever\":fever, \"chestPain\":chestPain, \"shortnessOfBreath\":shortnessOfBreath }\n",
    "\n",
    "symptoms"
   ]
  },
  {
   "cell_type": "code",
   "execution_count": 674,
   "id": "contrary-metadata",
   "metadata": {},
   "outputs": [
    {
     "data": {
      "text/plain": [
       "<AxesSubplot:ylabel='Count'>"
      ]
     },
     "execution_count": 674,
     "metadata": {},
     "output_type": "execute_result"
    },
    {
     "data": {
      "image/png": "[encoded data removed]",
      "text/plain": [
       "<Figure size 432x288 with 1 Axes>"
      ]
     },
     "metadata": {
      "needs_background": "light"
     },
     "output_type": "display_data"
    }
   ],
   "source": [
    "def randomPair():\n",
    "    return [_flip(), _flip()]\n",
    "\n",
    "sns.histplot(np.array([ ''.join(map(str,randomPair())) for _ in range(1000)]))"
   ]
  },
  {
   "cell_type": "markdown",
   "id": "imperial-affect",
   "metadata": {},
   "source": [
    "## Constructing marginal distributions: Inference\n",
    "\n",
    "Now we start doing inference. In webPPL this is handled with a function called `Infer()` that takes a handful of simple arguments. The inference interface in Numpyro is much more capable but also a fair deal more complicated. It is also more difficult to use \"simpler\" inference approaches: exact enumeration requires some extra syntax and there is no direct implementation of rejection sampling. There is one gradient-free MCMC kernel `SA()` that could be useful for these low-dimensionality discrete models and there is `DiscreteHMCGibbs()` kernel that combines HMC and gibbs sampling for discrete sites that seems to work quite well for low numbers of discrete latent variables.\n",
    "\n",
    "```javascript\n",
    "// original webPPL code\n",
    "//a complex function, that specifies a complex sampling process:\n",
    "var foo = function(){gaussian(0,1)*gaussian(0,1)}\n",
    "\n",
    "//make the marginal distributions on return values explicit:\n",
    "var d = Infer({method: 'forward', samples: 1000}, foo)\n",
    "\n",
    "//now we can use d as we would any other distribution:\n",
    "print( sample(d) )\n",
    "viz(d)\n",
    "```\n",
    "\n",
    "When dealing with deterministic variables (including variables that are deterministic combinations of random variables—Stan woul call these \"transformed parameters\"), we have to use the `numpyro.deterministic()` function to mark them in side the model, and use a `Predictive()` object to view them. That's potentially one reason to use the `Predictive()` by default."
   ]
  },
  {
   "cell_type": "code",
   "execution_count": 549,
   "id": "furnished-shooting",
   "metadata": {},
   "outputs": [
    {
     "name": "stderr",
     "output_type": "stream",
     "text": [
      "sample: 100%|██████████| 2000/2000 [00:02<00:00, 969.43it/s, acc. prob=0.58] \n"
     ]
    },
    {
     "data": {
      "text/plain": [
       "<AxesSubplot:ylabel='Density'>"
      ]
     },
     "execution_count": 549,
     "metadata": {},
     "output_type": "execute_result"
    },
    {
     "data": {
      "image/png": "[encoded data removed]",
      "text/plain": [
       "<Figure size 432x288 with 1 Axes>"
      ]
     },
     "metadata": {
      "needs_background": "light"
     },
     "output_type": "display_data"
    }
   ],
   "source": [
    "key = jax.random.PRNGKey(0)\n",
    "\n",
    "def foo():\n",
    "    a = numpyro.sample(\"a\", dist.Normal(jnp.array(0.), jnp.array(1.)))\n",
    "    b = numpyro.sample(\"b\", dist.Normal(jnp.array(0.), jnp.array(1.)))\n",
    "    numpyro.deterministic(\"query\", a*b)\n",
    "\n",
    "    return None\n",
    "\n",
    "posterior = MCMC(DiscreteHMCGibbs(NUTS(model)))\n",
    "posterior.run(key)\n",
    "\n",
    "posterior_samples = posterior.get_samples()\n",
    "\n",
    "# to get the deterministic sites, have to create Predictive() object\n",
    "posterior_predictive = Predictive(foo, posterior_samples)\n",
    "sns.kdeplot(posterior_predictive.posterior_samples[\"query\"])\n"
   ]
  },
  {
   "cell_type": "markdown",
   "id": "powered-fields",
   "metadata": {},
   "source": [
    "In `numpyro` the return values of the model function don't really do anything, so we have to explicitly mark the deterministic site for $a \\cdot b$."
   ]
  },
  {
   "cell_type": "markdown",
   "id": "cellular-treaty",
   "metadata": {},
   "source": [
    "## Stochastic recursion\n",
    "\n",
    "Skipping ahead a bit, we reach a recursive implementation of the geometric distribution. This is our first illustration of the extra bookkeeping needed in Pyro. Here, it means we can't just reuse our `flip()` function inside this recursive function.\n",
    "\n",
    "```javascript\n",
    "// original webPPL code\n",
    "var geometric = function (p) {\n",
    "    flip(p) ? 0 : 1 + geometric(p);\n",
    "};\n",
    "var g = Infer({method: 'forward', samples: 1000},\n",
    "              function(){return geometric(0.6)})\n",
    "viz(g)\n",
    "```"
   ]
  },
  {
   "cell_type": "code",
   "execution_count": 645,
   "id": "skilled-tourist",
   "metadata": {},
   "outputs": [
    {
     "data": {
      "text/plain": [
       "<AxesSubplot:ylabel='Count'>"
      ]
     },
     "execution_count": 645,
     "metadata": {},
     "output_type": "execute_result"
    },
    {
     "data": {
      "image/png": "[encoded data removed]",
      "text/plain": [
       "<Figure size 432x288 with 1 Axes>"
      ]
     },
     "metadata": {
      "needs_background": "light"
     },
     "output_type": "display_data"
    }
   ],
   "source": [
    "# this is the most webPPL-esque approach but it only works outside of inference\n",
    "\n",
    "def _geometric(p, t=None):\n",
    "    if t is None:\n",
    "        t = 0\n",
    "        \n",
    "    x = _flip(p)\n",
    "    \n",
    "    return jnp.array(0) if x==1 else 1 + _geometric(p, t + 1)\n",
    "\n",
    "\n",
    "sns.histplot(repeat_func(500, _geometric, .5))\n",
    "\n",
    "## this would work inside an inference\n",
    "\n",
    "# this needs a bit of extra book-keeping so we can't just reuse flip() function\n",
    "# here we need to pass both a counter to create unique site names\n",
    "# as well as PRNGKey to advance the state of randomness\n",
    "\n",
    "# def geometric(p, key, t=None):\n",
    "#     if t is None:\n",
    "#         t = 0\n",
    "#     x = numpyro.sample(\"x_{}\".format(t), dist.Bernoulli(p), rng_key=key)\n",
    "    \n",
    "#     key, subkey = jax.random.split(key)\n",
    "#     if x == 1:\n",
    "#         return jnp.array(0)\n",
    "#     else:\n",
    "#         return 1 + geometric(p, key, t + 1)\n",
    "\n",
    "# sns.histplot(jnp.stack([geometric(.6, jax.random.PRNGKey(np.random.randint(1e5))) for _ in range(0,1000)]))"
   ]
  }
 ],
 "metadata": {
  "kernelspec": {
   "display_name": "Python 3",
   "language": "python",
   "name": "python3"
  },
  "language_info": {
   "codemirror_mode": {
    "name": "ipython",
    "version": 3
   },
   "file_extension": ".py",
   "mimetype": "text/x-python",
   "name": "python",
   "nbconvert_exporter": "python",
   "pygments_lexer": "ipython3",
   "version": "3.8.8"
  }
 },
 "nbformat": 4,
 "nbformat_minor": 5
}
