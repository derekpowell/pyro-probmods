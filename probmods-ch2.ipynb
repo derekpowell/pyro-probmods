{
 "cells": [
  {
   "cell_type": "markdown",
   "id": "secure-monaco",
   "metadata": {},
   "source": [
    "# Probmods: Chapter 2\n",
    "\n",
    "In this notebook I will translate a selection of the example code snippets from the probmods book into Pyro. The original book is written using webPPL, and is available at https://probmods.org/.\n",
    "\n",
    "First, I'll define a `flip()` function, as this is not built in to Pyro. As we'll see later this cannot be used quite as effortlessly as in webPPl, as there are some additional bookkeeping requirements in Pyro."
   ]
  },
  {
   "cell_type": "code",
   "execution_count": 3,
   "id": "backed-milton",
   "metadata": {},
   "outputs": [],
   "source": [
    "import torch\n",
    "import pyro\n",
    "\n",
    "import pyro\n",
    "import pyro.infer\n",
    "import pyro.optim\n",
    "import pyro.distributions as dist\n",
    "from pyro.infer import Importance, EmpiricalMarginal\n",
    "\n",
    "import numpy as np\n",
    "import pandas as pd\n",
    "import seaborn as sns\n",
    "import functools"
   ]
  },
  {
   "cell_type": "code",
   "execution_count": 6,
   "id": "agricultural-hanging",
   "metadata": {},
   "outputs": [],
   "source": [
    "def flip(p=None):\n",
    "    if p==None: p=.5\n",
    "    return pyro.sample(\"coin\", dist.Bernoulli(torch.tensor(p)))"
   ]
  },
  {
   "cell_type": "code",
   "execution_count": 7,
   "id": "registered-marijuana",
   "metadata": {},
   "outputs": [
    {
     "data": {
      "text/plain": [
       "tensor(1.)"
      ]
     },
     "execution_count": 7,
     "metadata": {},
     "output_type": "execute_result"
    }
   ],
   "source": [
    "flip()"
   ]
  },
  {
   "cell_type": "markdown",
   "id": "first-glance",
   "metadata": {},
   "source": [
    "webPPL also includes a built-in helper function `viz()` that visualizes probability distributions. We'll have to do this manually\n",
    "\n",
    "```javascript\n",
    "// original webPPL code\n",
    "viz(repeat(1000,flip())\n",
    "```"
   ]
  },
  {
   "cell_type": "code",
   "execution_count": 17,
   "id": "extraordinary-zambia",
   "metadata": {},
   "outputs": [
    {
     "data": {
      "text/plain": [
       "<AxesSubplot:ylabel='Count'>"
      ]
     },
     "execution_count": 17,
     "metadata": {},
     "output_type": "execute_result"
    },
    {
     "data": {
      "image/png": "[encoded data removed]",
      "text/plain": [
       "<Figure size 432x288 with 1 Axes>"
      ]
     },
     "metadata": {
      "needs_background": "light"
     },
     "output_type": "display_data"
    }
   ],
   "source": [
    "sns.histplot(np.array([flip() for _ in range(1000)]))"
   ]
  },
  {
   "cell_type": "code",
   "execution_count": 10,
   "id": "macro-lightweight",
   "metadata": {},
   "outputs": [
    {
     "data": {
      "text/plain": [
       "tensor(3.)"
      ]
     },
     "execution_count": 10,
     "metadata": {},
     "output_type": "execute_result"
    }
   ],
   "source": [
    "flip() + flip() + flip()"
   ]
  },
  {
   "cell_type": "markdown",
   "id": "critical-region",
   "metadata": {},
   "source": [
    "Next we define a few functions, first `sumFlips()` in webPPL.\n",
    "\n",
    "```javascript\n",
    "# original webppl code\n",
    "var sumFlips = function() { return flip() + flip() + flip() }\n",
    "viz(repeat(100, sumFlips))\n",
    "```"
   ]
  },
  {
   "cell_type": "code",
   "execution_count": 52,
   "id": "checked-figure",
   "metadata": {},
   "outputs": [
    {
     "data": {
      "text/plain": [
       "<AxesSubplot:ylabel='Count'>"
      ]
     },
     "execution_count": 52,
     "metadata": {},
     "output_type": "execute_result"
    },
    {
     "data": {
      "image/png": "[encoded data removed]",
      "text/plain": [
       "<Figure size 432x288 with 1 Axes>"
      ]
     },
     "metadata": {
      "needs_background": "light"
     },
     "output_type": "display_data"
    }
   ],
   "source": [
    "def sumFlips():\n",
    "    return flip() + flip() + flip()\n",
    "\n",
    "sns.histplot(np.array([sumFlips() for _ in range(100)]))"
   ]
  },
  {
   "cell_type": "markdown",
   "id": "logical-provider",
   "metadata": {},
   "source": [
    "```javascript\n",
    "// original webPPL code\n",
    "var noisyDouble = function(x) { flip() ? x+x : x }\n",
    "noisyDouble(3)\n",
    "```"
   ]
  },
  {
   "cell_type": "code",
   "execution_count": 11,
   "id": "eligible-fabric",
   "metadata": {},
   "outputs": [
    {
     "data": {
      "text/plain": [
       "6"
      ]
     },
     "execution_count": 11,
     "metadata": {},
     "output_type": "execute_result"
    }
   ],
   "source": [
    "def noisyDouble(x):\n",
    "    if flip():\n",
    "        return x+x\n",
    "    else:\n",
    "        return x\n",
    "\n",
    "noisyDouble(3)"
   ]
  },
  {
   "cell_type": "markdown",
   "id": "suited-bumper",
   "metadata": {},
   "source": [
    "```javascript\n",
    "// original webPPL code\n",
    "var trickCoin = function() { flip(0.95) ? 'h' : 't' };\n",
    "viz(repeat(20, trickCoin))\n",
    "```"
   ]
  },
  {
   "cell_type": "code",
   "execution_count": 12,
   "id": "dated-thesis",
   "metadata": {},
   "outputs": [
    {
     "data": {
      "text/plain": [
       "<AxesSubplot:ylabel='Count'>"
      ]
     },
     "execution_count": 12,
     "metadata": {},
     "output_type": "execute_result"
    },
    {
     "data": {
      "image/png": "[encoded data removed]",
      "text/plain": [
       "<Figure size 432x288 with 1 Axes>"
      ]
     },
     "metadata": {
      "needs_background": "light"
     },
     "output_type": "display_data"
    }
   ],
   "source": [
    "def trickCoin():\n",
    "    if flip(.95):\n",
    "        return 'h'\n",
    "    else:\n",
    "        return 't'\n",
    "    \n",
    "sns.histplot(np.array([trickCoin() for _ in range(20)]))"
   ]
  },
  {
   "cell_type": "markdown",
   "id": "inside-australian",
   "metadata": {},
   "source": [
    "Ok from here on I will mostly skip including the webPPL code unless it is confusing, interesting, or introduces a new pattern of translation."
   ]
  },
  {
   "cell_type": "code",
   "execution_count": 90,
   "id": "sufficient-transcript",
   "metadata": {},
   "outputs": [
    {
     "data": {
      "text/plain": [
       "<AxesSubplot:ylabel='Count'>"
      ]
     },
     "execution_count": 90,
     "metadata": {},
     "output_type": "execute_result"
    },
    {
     "data": {
      "image/png": "[encoded data removed]",
      "text/plain": [
       "<Figure size 432x288 with 1 Axes>"
      ]
     },
     "metadata": {
      "needs_background": "light"
     },
     "output_type": "display_data"
    }
   ],
   "source": [
    "def makeCoin(weight):\n",
    "    def coin():\n",
    "        if flip(weight):\n",
    "            return 'h'\n",
    "        else:\n",
    "            return 't'\n",
    "    return coin\n",
    "\n",
    "fairCoin = makeCoin(.5)\n",
    "trickCoin = makeCoin(.95)\n",
    "bentCoin = makeCoin(.25)\n",
    "\n",
    "sns.histplot(np.array([fairCoin() for _ in range(100)]))"
   ]
  },
  {
   "cell_type": "code",
   "execution_count": 84,
   "id": "moral-class",
   "metadata": {},
   "outputs": [
    {
     "data": {
      "text/plain": [
       "<AxesSubplot:ylabel='Count'>"
      ]
     },
     "execution_count": 84,
     "metadata": {},
     "output_type": "execute_result"
    },
    {
     "data": {
      "image/png": "[encoded data removed]",
      "text/plain": [
       "<Figure size 432x288 with 1 Axes>"
      ]
     },
     "metadata": {
      "needs_background": "light"
     },
     "output_type": "display_data"
    }
   ],
   "source": [
    "sns.histplot(np.array([trickCoin() for _ in range(100)]))"
   ]
  },
  {
   "cell_type": "code",
   "execution_count": 85,
   "id": "periodic-arbor",
   "metadata": {},
   "outputs": [
    {
     "data": {
      "text/plain": [
       "<AxesSubplot:ylabel='Count'>"
      ]
     },
     "execution_count": 85,
     "metadata": {},
     "output_type": "execute_result"
    },
    {
     "data": {
      "image/png": "[encoded data removed]",
      "text/plain": [
       "<Figure size 432x288 with 1 Axes>"
      ]
     },
     "metadata": {
      "needs_background": "light"
     },
     "output_type": "display_data"
    }
   ],
   "source": [
    "sns.histplot(np.array([bentCoin() for _ in range(100)]))"
   ]
  },
  {
   "cell_type": "code",
   "execution_count": 96,
   "id": "continued-reading",
   "metadata": {},
   "outputs": [
    {
     "data": {
      "text/plain": [
       "tensor(1.)"
      ]
     },
     "execution_count": 96,
     "metadata": {},
     "output_type": "execute_result"
    }
   ],
   "source": [
    "lungCancer = flip(.01)\n",
    "cold = flip(.2)\n",
    "cough = cold or lungCancer\n",
    "cough"
   ]
  },
  {
   "cell_type": "code",
   "execution_count": 101,
   "id": "functioning-faculty",
   "metadata": {},
   "outputs": [
    {
     "data": {
      "text/plain": [
       "{'cough': tensor(0.),\n",
       " 'fever': tensor(1.),\n",
       " 'chestPain': tensor(0.),\n",
       " 'shortnessOfBreath': tensor(0.)}"
      ]
     },
     "execution_count": 101,
     "metadata": {},
     "output_type": "execute_result"
    }
   ],
   "source": [
    "lungCancer = flip(.01)\n",
    "TB= flip(.005)\n",
    "stomachFlu = flip(.1)\n",
    "cold = flip(.2)\n",
    "other = flip(.1)\n",
    "\n",
    "cough = (cold and flip(.5)) or (lungCancer and flip(.3)) or (TB and flip(.7)) or (other and flip(.01))\n",
    "\n",
    "fever = (cold and flip(.3)) or (stomachFlu and flip(.5)) or (TB and flip(.1)) or (other and flip(.01))\n",
    "\n",
    "chestPain = (cold and flip(.5)) or (TB and flip(.5)) or (other and flip(.01))\n",
    "\n",
    "shortnessOfBreath = (lungCancer and flip(.5)) or (TB and flip(.2)) or (other and flip(.01))\n",
    "\n",
    "symptoms = {\"cough\":cough, \"fever\":fever, \"chestPain\":chestPain, \"shortnessOfBreath\":shortnessOfBreath }\n",
    "\n",
    "symptoms"
   ]
  },
  {
   "cell_type": "code",
   "execution_count": 119,
   "id": "innocent-focus",
   "metadata": {},
   "outputs": [
    {
     "data": {
      "text/plain": [
       "<AxesSubplot:ylabel='Count'>"
      ]
     },
     "execution_count": 119,
     "metadata": {},
     "output_type": "execute_result"
    },
    {
     "data": {
      "image/png": "[encoded data removed]",
      "text/plain": [
       "<Figure size 432x288 with 1 Axes>"
      ]
     },
     "metadata": {
      "needs_background": "light"
     },
     "output_type": "display_data"
    }
   ],
   "source": [
    "def randomPair():\n",
    "    return [flip(), flip()]\n",
    "\n",
    "sns.histplot(np.array([ ''.join(map(str,randomPair())) for _ in range(1000)]))\n"
   ]
  },
  {
   "cell_type": "markdown",
   "id": "genetic-whole",
   "metadata": {},
   "source": [
    "```javascript\n",
    "//original webPPL code\n",
    "\n",
    "//make a distribution using the Bernoulli constructor:\n",
    "var b = Bernoulli({p: 0.5})\n",
    "\n",
    "//sample from it with the sample operator:\n",
    "print( sample(b) )\n",
    "\n",
    "//compute the log-probability of sampling true:\n",
    "print( b.score(true) )\n",
    "```"
   ]
  },
  {
   "cell_type": "code",
   "execution_count": 48,
   "id": "sought-saver",
   "metadata": {},
   "outputs": [
    {
     "name": "stdout",
     "output_type": "stream",
     "text": [
      "tensor(1.)\n",
      "tensor(-0.6931)\n"
     ]
    },
    {
     "data": {
      "text/plain": [
       "<AxesSubplot:xlabel='value', ylabel='prob'>"
      ]
     },
     "execution_count": 48,
     "metadata": {},
     "output_type": "execute_result"
    },
    {
     "data": {
      "image/png": "[encoded data removed]",
      "text/plain": [
       "<Figure size 432x288 with 1 Axes>"
      ]
     },
     "metadata": {
      "needs_background": "light"
     },
     "output_type": "display_data"
    }
   ],
   "source": [
    "# make distribution\n",
    "b = dist.Bernoulli(.5)\n",
    "\n",
    "# sample from it\n",
    "print(b.sample())\n",
    "\n",
    "# compute log-probability of sampling true\n",
    "print(b.log_prob(torch.tensor(1.)))\n",
    "\n",
    "# visualize the distribution\n",
    "d = {\n",
    "    \"prob\":np.array(torch.exp(b.log_prob(torch.tensor([0.,1.])))), \n",
    "    \"value\":[\"false\", \"true\"]\n",
    "    }\n",
    "\n",
    "sns.barplot(x=\"value\",y=\"prob\", data=pd.DataFrame(data = d), color=\"tab:blue\")"
   ]
  },
  {
   "cell_type": "markdown",
   "id": "facial-indonesia",
   "metadata": {},
   "source": [
    "## Constructing marginal distributions: (pyro equivalent to) `Infer`\n",
    "\n",
    "Here is a big difference worth marking. The inference interface in Pyro is much more capable but also a fair deal more complicated. It is also more difficult to use \"simpler\" inference approaches: exact enumeration requires some extra syntax and there is no direct implementation of rejection sampling nor is there plain-vanilla Metropolis-Hastings MCMC. Fortunately the implementation of importance sampling seems quite useful for simple low-dimensional models.\n",
    "\n",
    "```javascript\n",
    "// original webPPL code\n",
    "//a complex function, that specifies a complex sampling process:\n",
    "var foo = function(){gaussian(0,1)*gaussian(0,1)}\n",
    "\n",
    "//make the marginal distributions on return values explicit:\n",
    "var d = Infer({method: 'forward', samples: 1000}, foo)\n",
    "\n",
    "//now we can use d as we would any other distribution:\n",
    "print( sample(d) )\n",
    "viz(d)\n",
    "```"
   ]
  },
  {
   "cell_type": "code",
   "execution_count": 14,
   "id": "recorded-priest",
   "metadata": {},
   "outputs": [
    {
     "data": {
      "text/plain": [
       "<AxesSubplot:ylabel='Density'>"
      ]
     },
     "execution_count": 14,
     "metadata": {},
     "output_type": "execute_result"
    },
    {
     "data": {
      "image/png": "[encoded data removed]",
      "text/plain": [
       "<Figure size 432x288 with 1 Axes>"
      ]
     },
     "metadata": {
      "needs_background": "light"
     },
     "output_type": "display_data"
    }
   ],
   "source": [
    "# guidance from this post: https://forum.pyro.ai/t/is-there-an-equivalent-pyro-construct-for-webppls-infer-operator/612/2\n",
    "\n",
    "def foo():\n",
    "    a = pyro.sample(\"a\", dist.Normal(torch.tensor(0.), torch.tensor(1.)))\n",
    "    b = pyro.sample(\"b\", dist.Normal(torch.tensor(0.), torch.tensor(1.)))\n",
    "    return a*b\n",
    "\n",
    "# make the marginal distributions on return values explicit:\n",
    "posterior = Importance(foo, num_samples=1000)\n",
    "marginal = EmpiricalMarginal(posterior.run())\n",
    "\n",
    "samples = [marginal.sample() for _ in range(1000)]\n",
    "sns.kdeplot(np.array(samples))"
   ]
  },
  {
   "cell_type": "markdown",
   "id": "different-fifteen",
   "metadata": {},
   "source": [
    "## Stochastic recursion\n",
    "\n",
    "Skipping ahead a bit, we reach a recursive implementation of the geometric distribution. This is our first illustration of the extra bookkeeping needed in Pyro. Here, it means we can't just reuse our `flip()` function inside this recursive function.\n",
    "\n",
    "```javascript\n",
    "// original webPPL code\n",
    "var geometric = function (p) {\n",
    "    flip(p) ? 0 : 1 + geometric(p);\n",
    "};\n",
    "var g = Infer({method: 'forward', samples: 1000},\n",
    "              function(){return geometric(0.6)})\n",
    "viz(g)\n",
    "```"
   ]
  },
  {
   "cell_type": "code",
   "execution_count": 15,
   "id": "warming-massachusetts",
   "metadata": {},
   "outputs": [
    {
     "data": {
      "text/plain": [
       "<AxesSubplot:ylabel='Count'>"
      ]
     },
     "execution_count": 15,
     "metadata": {},
     "output_type": "execute_result"
    },
    {
     "data": {
      "image/png": "[encoded data removed]",
      "text/plain": [
       "<Figure size 432x288 with 1 Axes>"
      ]
     },
     "metadata": {
      "needs_background": "light"
     },
     "output_type": "display_data"
    }
   ],
   "source": [
    "from functools import partial\n",
    "\n",
    "# this needs a bit of extra book-keeping so we can't just reuse flip() function\n",
    "# see pyro docs (intro to models)\n",
    "\n",
    "def geometric(p, t=None):\n",
    "    if t is None:\n",
    "        t = 0\n",
    "    x = pyro.sample(\"x_{}\".format(t), pyro.distributions.Bernoulli(p))\n",
    "    if x.item() == 1:\n",
    "        return torch.tensor(0)\n",
    "    else:\n",
    "        return 1 + geometric(p, t + 1)\n",
    "\n",
    "posterior = Importance(partial(geometric, .6), num_samples = 1000)\n",
    "g = EmpiricalMarginal(posterior.run())\n",
    "\n",
    "sns.histplot(np.array( [g.sample() for _ in range(1000)]))\n"
   ]
  },
  {
   "cell_type": "markdown",
   "id": "fantastic-color",
   "metadata": {},
   "source": [
    "## Memoization\n",
    "\n",
    "If you run the function below, it gives a new result each time. But what we'd really like to do is randomly assign an eye color that persists."
   ]
  },
  {
   "cell_type": "code",
   "execution_count": 16,
   "id": "alive-intensity",
   "metadata": {},
   "outputs": [
    {
     "name": "stdout",
     "output_type": "stream",
     "text": [
      "suzie's eyes are green\n",
      "suzie's eyes are brown\n"
     ]
    }
   ],
   "source": [
    "def eyeColor(person):\n",
    "    n = 3\n",
    "    labels = [\"blue\",\"green\",\"brown\"]\n",
    "    x = dist.Categorical(probs=torch.ones(n)/n).sample()\n",
    "    return labels[x]\n",
    "\n",
    "print(\"suzie's eyes are\", eyeColor(\"suzie\"))\n",
    "print(\"suzie's eyes are\", eyeColor(\"suzie\"))"
   ]
  },
  {
   "cell_type": "markdown",
   "id": "extensive-writer",
   "metadata": {},
   "source": [
    "```javascript\n",
    "// original webPPL code\n",
    "var eyeColor = function (person) {\n",
    "    return uniformDraw(['blue', 'green', 'brown']);\n",
    "};\n",
    "[eyeColor('bob'), eyeColor('alice'), eyeColor('bob')];\n",
    "```"
   ]
  },
  {
   "cell_type": "code",
   "execution_count": 211,
   "id": "sustainable-temperature",
   "metadata": {},
   "outputs": [
    {
     "name": "stdout",
     "output_type": "stream",
     "text": [
      "suzie's eyes are green\n",
      "suzie's eyes are green\n"
     ]
    }
   ],
   "source": [
    "import functools\n",
    "\n",
    "@functools.lru_cache(maxsize=128)\n",
    "def eyeColor(person):\n",
    "    n = 3\n",
    "    labels = [\"blue\",\"green\",\"brown\"]\n",
    "    x = dist.Categorical(probs=torch.ones(n)/n).sample()\n",
    "    return labels[x]\n",
    "\n",
    "print(\"suzie's eyes are\", eyeColor(\"suzie\"))\n",
    "print(\"suzie's eyes are\", eyeColor(\"suzie\"))"
   ]
  }
 ],
 "metadata": {
  "kernelspec": {
   "display_name": "Python 3",
   "language": "python",
   "name": "python3"
  },
  "language_info": {
   "codemirror_mode": {
    "name": "ipython",
    "version": 3
   },
   "file_extension": ".py",
   "mimetype": "text/x-python",
   "name": "python",
   "nbconvert_exporter": "python",
   "pygments_lexer": "ipython3",
   "version": "3.8.8"
  }
 },
 "nbformat": 4,
 "nbformat_minor": 5
}
