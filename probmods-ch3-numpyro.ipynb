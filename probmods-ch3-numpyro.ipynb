{
 "cells": [
  {
   "cell_type": "markdown",
   "id": "characteristic-college",
   "metadata": {},
   "source": [
    "# Chapter 3"
   ]
  },
  {
   "cell_type": "code",
   "execution_count": 9,
   "id": "republican-heritage",
   "metadata": {},
   "outputs": [],
   "source": [
    "import numpyro\n",
    "import numpyro.distributions as dist\n",
    "from numpyro import handlers\n",
    "from numpyro.infer import SA, MCMC, Predictive, NUTS, DiscreteHMCGibbs\n",
    "\n",
    "import numpy as np\n",
    "import jax.numpy as jnp\n",
    "import jax\n",
    "from jax.random import PRNGKey\n",
    "\n",
    "import seaborn as sns\n",
    "\n",
    "import functools\n",
    "\n",
    "def make_random(fn):\n",
    "    key = jax.random.PRNGKey(np.random.randint(0, 1e6))\n",
    "    return handlers.seed(fn, rng_seed=key)"
   ]
  },
  {
   "cell_type": "markdown",
   "id": "democratic-liabilities",
   "metadata": {},
   "source": [
    "## Example: Reasoning about Tug of War\n",
    "\n",
    "```javascript\n",
    "//original webPPL code\n",
    "var strength = mem(function (person) {return Math.abs(gaussian(1, 1), 0.01)})\n",
    "var lazy = function(person) {return flip(1/3) }\n",
    "var pulling = function(person) {\n",
    "  return lazy(person) ? strength(person) / 2 : strength(person) }\n",
    "var totalPulling = function (team) {return sum(map(pulling, team))}\n",
    "var winner = function (team1, team2) {\n",
    "  totalPulling(team1) > totalPulling(team2) ? team1 : team2 }\n",
    "\n",
    "print([\n",
    "    winner(['alice', 'bob'], ['sue', 'tom']),\n",
    "    winner(['alice', 'bob'], ['sue', 'tom']),\n",
    "    winner(['alice', 'sue'], ['bob', 'tom']),\n",
    "    winner(['alice', 'sue'], ['bob', 'tom']),\n",
    "    winner(['alice', 'tom'], ['bob', 'sue']),\n",
    "    winner(['alice', 'tom'], ['bob', 'sue'])\n",
    "])\n",
    "```"
   ]
  },
  {
   "cell_type": "code",
   "execution_count": 81,
   "id": "brave-heater",
   "metadata": {},
   "outputs": [
    {
     "name": "stdout",
     "output_type": "stream",
     "text": [
      "[['sue', 'tom'], ['sue', 'tom'], ['bob', 'tom'], ['bob', 'tom'], ['alice', 'tom'], ['alice', 'tom']]\n"
     ]
    }
   ],
   "source": [
    "## here they are as close to the webPPL as possible\n",
    "\n",
    "@functools.lru_cache(maxsize=128)\n",
    "def strength(person):\n",
    "    return jnp.abs(numpyro.sample(\"s_{}\".format(person), dist.Normal(1,1)))\n",
    "    \n",
    "def lazy(person):\n",
    "    return numpyro.sample(\"l_{}\".format(person), dist.Bernoulli(1/3))\n",
    "\n",
    "def pulling(person):\n",
    "    return strength(person)/2 if lazy(person)==1. else strength(person)\n",
    "\n",
    "def totalPulling(team):\n",
    "    return jnp.sum(jnp.stack([pulling(i) for i in team]))\n",
    "\n",
    "def winner(team1, team2):\n",
    "    return team1 if totalPulling(team1) > totalPulling(team2) else team2\n",
    "\n",
    "_winner = make_random(winner)\n",
    "\n",
    "print([\n",
    "    _winner(['alice', 'bob'], ['sue', 'tom']),\n",
    "    _winner(['alice', 'bob'], ['sue', 'tom']),\n",
    "    _winner(['alice', 'sue'], ['bob', 'tom']),\n",
    "    _winner(['alice', 'sue'], ['bob', 'tom']),\n",
    "    _winner(['alice', 'tom'], ['bob', 'sue']),\n",
    "    _winner(['alice', 'tom'], ['bob', 'sue'])\n",
    "])"
   ]
  },
  {
   "cell_type": "code",
   "execution_count": 86,
   "id": "genuine-bench",
   "metadata": {},
   "outputs": [
    {
     "name": "stderr",
     "output_type": "stream",
     "text": [
      "sample: 100%|██████████| 2000/2000 [00:07<00:00, 262.45it/s, 1023 steps of size 1.09e-03. acc. prob=0.78]\n"
     ]
    }
   ],
   "source": [
    "## here we replace flow control with jax.numpy functions where possible\n",
    "def model():\n",
    "    @functools.lru_cache(maxsize=128)\n",
    "    def strength(person):\n",
    "        return jnp.abs(numpyro.sample(\"s_{}\".format(person), dist.Normal(1,1)))\n",
    "    \n",
    "    def lazy(person, rnd):\n",
    "        return numpyro.sample(\"l_{}_{}\".format(person, rnd), dist.Bernoulli(1/3))\n",
    "    \n",
    "    def pulling(person, rnd):\n",
    "        return jnp.where(lazy(person, rnd)==1, strength(person)/2., strength(person))\n",
    "\n",
    "    def totalPulling(team, rnd):\n",
    "        return jnp.sum(jnp.stack([pulling(i,rnd) for i in team]))\n",
    "\n",
    "    def beat(team1, team2, rnd):\n",
    "        # did team1 win?\n",
    "        return jnp.where(totalPulling(team1, rnd) > totalPulling(team2, rnd), 1., 0.)\n",
    "\n",
    "    beat1 = beat(['bob', 'mary'], ['tom','sue'], 1)\n",
    "    beat2 = beat(['bob', 'sue'], ['tom','jim'], 2)\n",
    "\n",
    "    numpyro.sample(\"beat1\", dist.Bernoulli(1-jnp.exp(-15)), obs=jnp.array(beat1==1.))\n",
    "    numpyro.sample(\"beat2\", dist.Bernoulli(1-jnp.exp(-15)), obs=jnp.array(beat2==1.))\n",
    "    \n",
    "    \n",
    "    return None\n",
    "\n",
    "\n",
    "kernel = DiscreteHMCGibbs(NUTS(model, target_accept_prob=.80), modified=True)\n",
    "posterior = MCMC(kernel, 500, 500, num_chains=1)\n",
    "\n",
    "posterior.run(PRNGKey(0))\n"
   ]
  },
  {
   "cell_type": "code",
   "execution_count": 87,
   "id": "cheap-console",
   "metadata": {},
   "outputs": [
    {
     "data": {
      "text/plain": [
       "<AxesSubplot:ylabel='Density'>"
      ]
     },
     "execution_count": 87,
     "metadata": {},
     "output_type": "execute_result"
    },
    {
     "data": {
      "image/png": "[encoded data removed]",
      "text/plain": [
       "<Figure size 432x288 with 1 Axes>"
      ]
     },
     "metadata": {
      "needs_background": "light"
     },
     "output_type": "display_data"
    }
   ],
   "source": [
    "posterior_samples = posterior.get_samples()\n",
    "sns.kdeplot(posterior_samples[\"s_bob\"])"
   ]
  },
  {
   "cell_type": "markdown",
   "id": "psychological-objective",
   "metadata": {},
   "source": [
    "We can also reason about complex queries, e.g.: \"how likely a team of Bob and Mary is to beat a team of Jim and Sue, given that Mary is at least as strong as sue, and Bob beat Jim in a previous direct match up\"?"
   ]
  },
  {
   "cell_type": "code",
   "execution_count": 41,
   "id": "blessed-cameroon",
   "metadata": {},
   "outputs": [
    {
     "name": "stderr",
     "output_type": "stream",
     "text": [
      "sample: 100%|██████████| 2000/2000 [00:06<00:00, 326.84it/s, 1023 steps of size 1.02e-03. acc. prob=0.80]\n"
     ]
    },
    {
     "data": {
      "text/plain": [
       "<AxesSubplot:ylabel='Count'>"
      ]
     },
     "execution_count": 41,
     "metadata": {},
     "output_type": "execute_result"
    },
    {
     "data": {
      "image/png": "[encoded data removed]",
      "text/plain": [
       "<Figure size 432x288 with 1 Axes>"
      ]
     },
     "metadata": {
      "needs_background": "light"
     },
     "output_type": "display_data"
    }
   ],
   "source": [
    "def model2():\n",
    "    @functools.lru_cache(maxsize=128)\n",
    "    def strength(person):\n",
    "        return jnp.abs(numpyro.sample(\"s_{}\".format(person), dist.Normal(1,1)))\n",
    "    \n",
    "    def lazy(person, rnd):\n",
    "        return numpyro.sample(\"l_{}_{}\".format(person, rnd), dist.Bernoulli(1/3))\n",
    "    \n",
    "    def pulling(person, rnd):\n",
    "        return jnp.where(lazy(person, rnd)==1., strength(person)/2., strength(person))\n",
    "\n",
    "    def totalPulling(team, rnd):\n",
    "        return jnp.sum(jnp.stack([pulling(i, rnd) for i in team]))\n",
    "\n",
    "    def beat(team1, team2, rnd):\n",
    "        # did team1 win?\n",
    "        return jnp.where(totalPulling(team1, rnd) > totalPulling(team2, rnd), 1., 0.)\n",
    "\n",
    "    str1 = strength('mary')>=strength('sue')\n",
    "    beat1 = beat(['bob'], ['jim'],1)\n",
    "    \n",
    "    numpyro.sample(\"str1\", dist.Bernoulli(1-jnp.exp(-15)), obs=str1)\n",
    "    numpyro.sample(\"beat1\", dist.Bernoulli(1-jnp.exp(-15)), obs=beat1)\n",
    "    \n",
    "    query = beat(['bob','mary'], ['jim','sue'], 2)\n",
    "    numpyro.deterministic(\"query\", query)\n",
    "    \n",
    "    return None\n",
    "\n",
    "kernel = DiscreteHMCGibbs(NUTS(model2, target_accept_prob=.80), modified=True)\n",
    "posterior = MCMC(kernel, 1_000, 1_000, num_chains=1)\n",
    "posterior.run(PRNGKey(0))\n",
    "\n",
    "posterior_samples = posterior.get_samples()\n",
    "posterior_predictive = Predictive(model2, posterior_samples)\n",
    "sns.histplot(posterior_predictive.posterior_samples[\"query\"])"
   ]
  },
  {
   "cell_type": "markdown",
   "id": "dynamic-belly",
   "metadata": {},
   "source": [
    "## (note quite) Exact inference with discrete Bayesian networks\n",
    "\n",
    "The next section of probmods is an example of causal inference in medical diagnosis using Causal bayes nets. Here's an example:\n",
    "\n",
    "```javascript\n",
    "//original webPPL code\n",
    "var cancerDist = Infer({method: 'enumerate'},\n",
    "  function () {\n",
    "    var breastCancer = flip(0.01)\n",
    "    var positiveMammogram = breastCancer ? flip(0.8) : flip(0.096)\n",
    "    condition(positiveMammogram)\n",
    "    return {breastCancer: breastCancer}\n",
    "})\n",
    "viz(cancerDist)\n",
    "```\n",
    "Because we're dealing with discrete causes, this is a good context for testing exact inference with discrete methods in `numpyro`. Except these features haven't been fully implemented yet. It looks like getting out the latent discrete probabilities (for exact inference on those sites) is a WIP, and possibly going to be added soon: https://github.com/pyro-ppl/numpyro/pull/977\n",
    "\n",
    "In the webppl example they use exact inference by running the `Infer({method: \"enumerate\"}, ...` method. Pyro is heavily geared around approximate inference, but it can do exact inference as well, as well as enumerating out discrete factors among a larger approximate inference approach. So you can do NUTS and SVI with a few discrete factors included as well. That's a pretty cool advantage over Stan and other implementations. If what we cared about were posteriors for continuous variables from models with discete latent variables, we are all set to do that with numpyro. But since we care about the laent discretes, we need some more features to be implemented before this will work.\n",
    "\n",
    "So in the below examples use __approximate inference__."
   ]
  },
  {
   "cell_type": "code",
   "execution_count": 42,
   "id": "forty-trailer",
   "metadata": {},
   "outputs": [
    {
     "name": "stderr",
     "output_type": "stream",
     "text": [
      "sample: 100%|██████████| 2000/2000 [00:03<00:00, 624.65it/s, 1 steps of size 3.40e+38. acc. prob=1.00] \n"
     ]
    },
    {
     "name": "stdout",
     "output_type": "stream",
     "text": [
      "est. p(Cancer = 1|positiveMammogram) = 0.0830\n"
     ]
    },
    {
     "data": {
      "image/png": "[encoded data removed]",
      "text/plain": [
       "<Figure size 432x288 with 1 Axes>"
      ]
     },
     "metadata": {
      "needs_background": "light"
     },
     "output_type": "display_data"
    }
   ],
   "source": [
    "from numpyro.contrib.funsor.infer_util import config_enumerate\n",
    "# from numpyro.contrib.funsor.discrete import infer_discrete # <--- coming soon ?\n",
    "\n",
    "# @config_enumerate # < --- works but can't get the sample sites at this point\n",
    "def model():\n",
    "    breastCancer = numpyro.sample(\"breastCancer\", dist.Bernoulli(.01))\n",
    "    p_pos = jnp.where(breastCancer, .8, .096) # <--- note this is the right way to do this\n",
    "    numpyro.sample(\"positiveMammogram\", dist.Bernoulli(p_pos), obs=1.)\n",
    "    return breastCancer\n",
    "\n",
    "kernel = DiscreteHMCGibbs(NUTS(model, target_accept_prob=.80), modified=True)\n",
    "posterior = MCMC(kernel, 1_000, 1_000, num_chains=1)\n",
    "posterior.run(PRNGKey(0))\n",
    "\n",
    "posterior_samples = posterior.get_samples()\n",
    "posterior_predictive = Predictive(model, posterior_samples)\n",
    "\n",
    "sns.histplot(posterior_predictive.posterior_samples[\"breastCancer\"])\n",
    "print(\"est. p(Cancer = 1|positiveMammogram) = {:.4f}\".format(\n",
    "    jnp.mean(posterior_predictive.posterior_samples[\"breastCancer\"]))\n",
    "     )"
   ]
  },
  {
   "cell_type": "code",
   "execution_count": 62,
   "id": "binary-seafood",
   "metadata": {},
   "outputs": [
    {
     "name": "stderr",
     "output_type": "stream",
     "text": [
      "sample: 100%|██████████| 2000/2000 [00:03<00:00, 546.24it/s, 1 steps of size 3.40e+38. acc. prob=1.00] \n"
     ]
    },
    {
     "name": "stdout",
     "output_type": "stream",
     "text": [
      "est. p(Cancer = 1|positiveMammogram) = 0.0950\n"
     ]
    },
    {
     "data": {
      "image/png": "[encoded data removed]",
      "text/plain": [
       "<Figure size 432x288 with 1 Axes>"
      ]
     },
     "metadata": {
      "needs_background": "light"
     },
     "output_type": "display_data"
    }
   ],
   "source": [
    "def noisy_or(a,b):\n",
    "        return jnp.logical_or(\n",
    "            jnp.logical_and(a, numpyro.sample(\"c1\", dist.Bernoulli(.8))),\n",
    "            jnp.logical_and(b, numpyro.sample(\"c2\", dist.Bernoulli(.5)))\n",
    "        )\n",
    "\n",
    "def model():\n",
    "    \n",
    "    breastCancer = numpyro.sample(\"breastCancer\", dist.Bernoulli(.01))\n",
    "    benignCyst = numpyro.sample(\"benignCyst\", dist.Bernoulli(.2))\n",
    "    numpyro.sample(\"positiveMammogram\", dist.Bernoulli(.9999), obs = noisy_or(breastCancer, benignCyst))\n",
    "    \n",
    "    return breastCancer\n",
    "\n",
    "kernel = DiscreteHMCGibbs(NUTS(model, target_accept_prob=.80), modified=True)\n",
    "posterior = MCMC(kernel, 1_000, 1_000, num_chains=1)\n",
    "posterior.run(PRNGKey(0))\n",
    "\n",
    "posterior_samples = posterior.get_samples()\n",
    "posterior_predictive = Predictive(model, posterior_samples)\n",
    "\n",
    "sns.histplot(posterior_predictive.posterior_samples[\"breastCancer\"])\n",
    "print(\"est. p(Cancer = 1|positiveMammogram) = {:.4f}\".format(\n",
    "    jnp.mean(posterior_predictive.posterior_samples[\"breastCancer\"]))\n",
    "     )"
   ]
  },
  {
   "cell_type": "markdown",
   "id": "meaningful-lightweight",
   "metadata": {},
   "source": [
    "We can also create an empirical distribution from our MCMC samples and use that to compute the probability of different values. This is not needed here, but it is the approach we'd use to accomplish nested inference (though it won't work to put MCMC inside MCMC, so we'll need another approach)."
   ]
  },
  {
   "cell_type": "code",
   "execution_count": 79,
   "id": "forty-paste",
   "metadata": {},
   "outputs": [
    {
     "data": {
      "text/plain": [
       "DeviceArray(0.09499999, dtype=float32)"
      ]
     },
     "execution_count": 79,
     "metadata": {},
     "output_type": "execute_result"
    }
   ],
   "source": [
    "import numpyro.contrib.tfp.distributions as distfp\n",
    "emp_posterior = distfp.Empirical(posterior_samples[\"breastCancer\"])\n",
    "jnp.exp(emp_posterior.log_prob(1))"
   ]
  },
  {
   "cell_type": "code",
   "execution_count": null,
   "id": "accomplished-halifax",
   "metadata": {},
   "outputs": [],
   "source": []
  }
 ],
 "metadata": {
  "kernelspec": {
   "display_name": "Python 3",
   "language": "python",
   "name": "python3"
  },
  "language_info": {
   "codemirror_mode": {
    "name": "ipython",
    "version": 3
   },
   "file_extension": ".py",
   "mimetype": "text/x-python",
   "name": "python",
   "nbconvert_exporter": "python",
   "pygments_lexer": "ipython3",
   "version": "3.8.8"
  }
 },
 "nbformat": 4,
 "nbformat_minor": 5
}
