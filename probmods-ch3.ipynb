{
 "cells": [
  {
   "cell_type": "markdown",
   "id": "operating-reverse",
   "metadata": {},
   "source": [
    "# Probmods: Chapter 3\n",
    "\n",
    "In this notebook I will translate a selection of the example code snippets from Chapter 3 of the probmods book into Pyro. The original book is written using webPPL, and is available at https://probmods.org/."
   ]
  },
  {
   "cell_type": "code",
   "execution_count": 1,
   "id": "oriental-memorial",
   "metadata": {},
   "outputs": [],
   "source": [
    "import torch\n",
    "import pyro\n",
    "\n",
    "import pyro\n",
    "import pyro.infer\n",
    "import pyro.optim\n",
    "import pyro.distributions as dist\n",
    "from pyro.infer import Importance, EmpiricalMarginal\n",
    "\n",
    "import numpy as np\n",
    "import pandas as pd\n",
    "import seaborn as sns\n",
    "import functools"
   ]
  },
  {
   "cell_type": "markdown",
   "id": "purple-experience",
   "metadata": {},
   "source": [
    "## Rejection sampling\n",
    "\n",
    "```javascript\n",
    "//original webPPL code\n",
    "var takeSample = function () {\n",
    "    var A = flip()\n",
    "    var B = flip()\n",
    "    var C = flip()\n",
    "    var D = A + B + C\n",
    "    return D >= 2 ? A : takeSample()\n",
    "}\n",
    "viz(repeat(100, takeSample))\n",
    "```"
   ]
  },
  {
   "cell_type": "code",
   "execution_count": 2,
   "id": "immediate-automation",
   "metadata": {},
   "outputs": [
    {
     "data": {
      "text/plain": [
       "<AxesSubplot:ylabel='Count'>"
      ]
     },
     "execution_count": 2,
     "metadata": {},
     "output_type": "execute_result"
    },
    {
     "data": {
      "image/png": "[encoded data removed]",
      "text/plain": [
       "<Figure size 432x288 with 1 Axes>"
      ]
     },
     "metadata": {
      "needs_background": "light"
     },
     "output_type": "display_data"
    }
   ],
   "source": [
    "def takeSample(t=None):    \n",
    "    if t is None:\n",
    "        t = 0\n",
    "    A = pyro.sample(\"A_{}\".format(t), pyro.distributions.Bernoulli(.5))\n",
    "    B = pyro.sample(\"B_{}\".format(t), pyro.distributions.Bernoulli(.5))\n",
    "    C = pyro.sample(\"B_{}\".format(t), pyro.distributions.Bernoulli(.5))\n",
    "    D = A + B + C\n",
    "    if D >= 2:\n",
    "        return A\n",
    "    else:\n",
    "        return takeSample(t+1)\n",
    "        \n",
    "sns.histplot(np.array([takeSample() for _ in range(100)]))"
   ]
  },
  {
   "cell_type": "markdown",
   "id": "boolean-reggae",
   "metadata": {},
   "source": [
    "Don't want to implement rejection manually, but instead condition our model.\n",
    "\n",
    "```javascript\n",
    "//original webPPL code\n",
    "var model = function () {\n",
    "    var A = flip()\n",
    "    var B = flip()\n",
    "    var C = flip()\n",
    "    var D = A + B + C\n",
    "    condition(D >= 2)\n",
    "    return A\n",
    "}\n",
    "var dist = Infer({method: 'rejection', samples: 100}, model)\n",
    "viz(dist)\n",
    "```\n",
    "\n",
    "\n",
    "Conditioning on boolean constraints is a bit different in `pyro`. This [forum post](https://forum.pyro.ai/t/achieving-observe-behavior/1687/2) is helpful for getting behavior like webPPL's `observe` function. There is a tiny fudge factor involved here but it should be fine."
   ]
  },
  {
   "cell_type": "code",
   "execution_count": 3,
   "id": "loved-robert",
   "metadata": {},
   "outputs": [
    {
     "data": {
      "text/plain": [
       "<AxesSubplot:ylabel='Count'>"
      ]
     },
     "execution_count": 3,
     "metadata": {},
     "output_type": "execute_result"
    },
    {
     "data": {
      "image/png": "[encoded data removed]",
      "text/plain": [
       "<Figure size 432x288 with 1 Axes>"
      ]
     },
     "metadata": {
      "needs_background": "light"
     },
     "output_type": "display_data"
    }
   ],
   "source": [
    "def model():\n",
    "    A = pyro.sample(\"A\", dist.Bernoulli(.5))\n",
    "    B = pyro.sample(\"B\", dist.Bernoulli(.5))\n",
    "    C = pyro.sample(\"C\", dist.Bernoulli(.5))\n",
    "    D = A + B + C\n",
    "    \n",
    "    pyro.sample(\"obs\", dist.Bernoulli(.9999), obs = (D >= 2.).float())\n",
    "\n",
    "    return A\n",
    "\n",
    "posterior = Importance(model, num_samples=1000)\n",
    "marginal = EmpiricalMarginal(posterior.run())\n",
    "\n",
    "sns.histplot(np.array([marginal.sample() for _ in range(1000)]))"
   ]
  },
  {
   "cell_type": "markdown",
   "id": "intended-gathering",
   "metadata": {},
   "source": [
    "```javascript\n",
    "//original webPPL code\n",
    "var observedData = true;\n",
    "var prior = function () { flip() }\n",
    "var likelihood = function (h) { h ? flip(0.9) : flip(0.1) }\n",
    "\n",
    "var posterior = Infer(\n",
    "  function () {\n",
    "    var hypothesis = prior()\n",
    "    var data = likelihood(hypothesis)\n",
    "    condition(data == observedData)\n",
    "    return {hypothesis: hypothesis}\n",
    "})\n",
    "\n",
    "viz(posterior)\n",
    "```"
   ]
  },
  {
   "cell_type": "code",
   "execution_count": 4,
   "id": "superb-hostel",
   "metadata": {},
   "outputs": [
    {
     "data": {
      "text/plain": [
       "<AxesSubplot:ylabel='Count'>"
      ]
     },
     "execution_count": 4,
     "metadata": {},
     "output_type": "execute_result"
    },
    {
     "data": {
      "image/png": "[encoded data removed]",
      "text/plain": [
       "<Figure size 432x288 with 1 Axes>"
      ]
     },
     "metadata": {
      "needs_background": "light"
     },
     "output_type": "display_data"
    }
   ],
   "source": [
    "observedData = torch.tensor(1.) # gotta be careful to respect torch! warnings aren't much help\n",
    "\n",
    "def prior():\n",
    "    return pyro.sample(\"hypothesis\", dist.Bernoulli(.5))\n",
    "\n",
    "def likelihood(h):\n",
    "    if h:\n",
    "        p = .9\n",
    "    else:\n",
    "        p = .1\n",
    "    return dist.Bernoulli(p)\n",
    "\n",
    "def posterior_model():\n",
    "    hypothesis = prior()\n",
    "    data = likelihood(hypothesis)\n",
    "    pyro.sample(\"likeli\", data, obs=observedData)\n",
    "    return hypothesis\n",
    "\n",
    "\n",
    "posterior = Importance(posterior_model, num_samples=1000)\n",
    "marginal = EmpiricalMarginal(posterior.run())\n",
    "\n",
    "sns.histplot(np.array([marginal.sample() for _ in range(1000)]))\n"
   ]
  },
  {
   "cell_type": "markdown",
   "id": "becoming-offering",
   "metadata": {},
   "source": [
    "Other methods for inference (and conditioning continuous variables). In Pyro `condition()` appears to work like webPPL's `observe()`.\n",
    "\n",
    "```javascript\n",
    "var model = function(){\n",
    "  var trueX = sample(Gaussian({mu: 0, sigma: 1}))\n",
    "  observe(Gaussian({mu: trueX, sigma: 0.1}), 0.2)\n",
    "  return trueX\n",
    "}\n",
    "viz(Infer({method: 'rejection', samples:1000, maxScore: 2}, model))\n",
    "```"
   ]
  },
  {
   "cell_type": "raw",
   "id": "violent-founder",
   "metadata": {},
   "source": [
    "def model():\n",
    "    trueX = pyro.sample(\"trueX\", dist.Normal(0., 1.))\n",
    "    pyro.sample(\"obsX\", dist.Normal(trueX, .1), obs=torch.tensor(.2))\n",
    "    return trueX\n",
    "\n",
    "posterior = Importance(model, num_samples=1000)\n",
    "marginal = EmpiricalMarginal(posterior.run())\n",
    "\n",
    "sns.kdeplot(np.array([marginal.sample() for _ in range(2000)]))"
   ]
  },
  {
   "cell_type": "markdown",
   "id": "processed-breakdown",
   "metadata": {},
   "source": [
    "(should add the bit about `factor()`)"
   ]
  },
  {
   "cell_type": "markdown",
   "id": "provincial-dividend",
   "metadata": {},
   "source": [
    "## Example: Reasoning about Tug of War\n",
    "\n",
    "```javascript\n",
    "//original webPPL code\n",
    "var strength = mem(function (person) {return Math.abs(gaussian(1, 1), 0.01)})\n",
    "var lazy = function(person) {return flip(1/3) }\n",
    "var pulling = function(person) {\n",
    "  return lazy(person) ? strength(person) / 2 : strength(person) }\n",
    "var totalPulling = function (team) {return sum(map(pulling, team))}\n",
    "var winner = function (team1, team2) {\n",
    "  totalPulling(team1) > totalPulling(team2) ? team1 : team2 }\n",
    "\n",
    "print([\n",
    "    winner(['alice', 'bob'], ['sue', 'tom']),\n",
    "    winner(['alice', 'bob'], ['sue', 'tom']),\n",
    "    winner(['alice', 'sue'], ['bob', 'tom']),\n",
    "    winner(['alice', 'sue'], ['bob', 'tom']),\n",
    "    winner(['alice', 'tom'], ['bob', 'sue']),\n",
    "    winner(['alice', 'tom'], ['bob', 'sue'])\n",
    "])\n",
    "```"
   ]
  },
  {
   "cell_type": "code",
   "execution_count": 5,
   "id": "conventional-blast",
   "metadata": {},
   "outputs": [
    {
     "name": "stdout",
     "output_type": "stream",
     "text": [
      "[['alice', 'bob'], ['alice', 'bob'], ['alice', 'sue'], ['alice', 'sue'], ['bob', 'sue'], ['bob', 'sue']]\n"
     ]
    }
   ],
   "source": [
    "\n",
    "@functools.lru_cache(maxsize=128)\n",
    "def strength(person):\n",
    "    return torch.abs(pyro.sample(\"s_{}\".format(person), dist.Normal(1,1)))\n",
    "    \n",
    "def lazy(person):\n",
    "    return pyro.sample(\"l_{}\".format(person), dist.Bernoulli(1/3))\n",
    "\n",
    "def pulling(person):\n",
    "    if lazy(person)==1.:\n",
    "        return strength(person)/2\n",
    "    else:\n",
    "        return strength(person)\n",
    "\n",
    "def totalPulling(team):\n",
    "    return torch.sum(torch.tensor([pulling(i) for i in team]))\n",
    "\n",
    "def winner(team1, team2):\n",
    "    if totalPulling(team1) > totalPulling(team2):\n",
    "        return team1\n",
    "    else:\n",
    "        return team2\n",
    "    \n",
    "print([\n",
    "    winner(['alice', 'bob'], ['sue', 'tom']),\n",
    "    winner(['alice', 'bob'], ['sue', 'tom']),\n",
    "    winner(['alice', 'sue'], ['bob', 'tom']),\n",
    "    winner(['alice', 'sue'], ['bob', 'tom']),\n",
    "    winner(['alice', 'tom'], ['bob', 'sue']),\n",
    "    winner(['alice', 'tom'], ['bob', 'sue'])\n",
    "])"
   ]
  },
  {
   "cell_type": "markdown",
   "id": "indirect-armenia",
   "metadata": {},
   "source": [
    "```javascript\n",
    "//original webPPL code\n",
    "var model = function() {\n",
    "  var strength = mem(function (person) {return Math.abs(gaussian(1, 1), 0.01)})\n",
    "  var lazy = function(person) {return flip(1/3) }\n",
    "  var pulling = function(person) {\n",
    "    return lazy(person) ? strength(person) / 2 : strength(person) }\n",
    "  var totalPulling = function (team) {return sum(map(pulling, team))}\n",
    "  var winner = function (team1, team2) {\n",
    "    totalPulling(team1) > totalPulling(team2) ? team1 : team2 }\n",
    "  var beat = function(team1,team2){winner(team1,team2) == team1}\n",
    "\n",
    "  condition(beat(['bob', 'mary'], ['tom', 'sue']))\n",
    "  condition(beat(['bob', 'sue'],  ['tom', 'jim']))\n",
    "\n",
    "  return strength('bob')\n",
    "}\n",
    "\n",
    "var dist = Infer({method: 'MCMC', kernel: 'MH', samples: 25000},\n",
    "                 model)\n",
    "\n",
    "print('Expected strength: ' + expectation(dist))\n",
    "viz(dist)\n",
    "```\n",
    "\n",
    "To use this model for inference in pyro we need to do a bit of extra book keeping. Specifically, we need to keep track  laziness across rounds so now all the functions but strength() take an additional `rnd` argument.\n",
    "\n",
    "I was also able to do what looks like reasonable inference on this model using importance sampling rather than MCMC. Because Pyro only implements HMC it cannot be used for models with discrete latent variables (e.g. lazy) without some additional work that I will address in a later example."
   ]
  },
  {
   "cell_type": "code",
   "execution_count": 6,
   "id": "bizarre-broadcast",
   "metadata": {},
   "outputs": [
    {
     "data": {
      "text/plain": [
       "<AxesSubplot:ylabel='Density'>"
      ]
     },
     "execution_count": 6,
     "metadata": {},
     "output_type": "execute_result"
    },
    {
     "data": {
      "image/png": "[encoded data removed]",
      "text/plain": [
       "<Figure size 432x288 with 1 Axes>"
      ]
     },
     "metadata": {
      "needs_background": "light"
     },
     "output_type": "display_data"
    }
   ],
   "source": [
    "def model():\n",
    "    @functools.lru_cache(maxsize=128)\n",
    "    def strength(person):\n",
    "        return torch.abs(pyro.sample(\"s_{}\".format(person), dist.Normal(1,1)))\n",
    "\n",
    "    def lazy(person, rnd):\n",
    "        return pyro.sample(\"l_{}_{}\".format(person, rnd), dist.Bernoulli(1/3))\n",
    "\n",
    "    def pulling(person, rnd):\n",
    "        if lazy(person, rnd)==1.:\n",
    "            return strength(person)/2\n",
    "        else:\n",
    "            return strength(person)\n",
    "\n",
    "    def totalPulling(team, rnd):\n",
    "        return torch.sum(torch.tensor([pulling(i, rnd) for i in team]))\n",
    "\n",
    "    def winner(team1, team2, rnd):\n",
    "        if totalPulling(team1, rnd) > totalPulling(team2, rnd):\n",
    "            return team1\n",
    "        else:\n",
    "            return team2\n",
    "\n",
    "    def beat(team1, team2, rnd):\n",
    "        if winner(team1, team2, rnd)==team1:\n",
    "            return 1.\n",
    "        else:\n",
    "            return 0.\n",
    "    \n",
    "    beat1 = beat(['bob', 'mary'], ['tom','sue'], 1)\n",
    "    beat2 = beat(['bob', 'sue'], ['tom','jim'], 2)\n",
    "    \n",
    "    pyro.sample(\"beat1\", dist.Bernoulli(.9999), obs=torch.tensor(beat1==1.).float())\n",
    "    pyro.sample(\"beat2\", dist.Bernoulli(.9999), obs=torch.tensor(beat2==1.).float())\n",
    "    \n",
    "    return strength('bob')\n",
    "\n",
    "## seems to work with importance sampling, not requiring mcmc?\n",
    "posterior = Importance(model, num_samples=2500)\n",
    "marginal = EmpiricalMarginal(posterior.run())\n",
    "\n",
    "sns.kdeplot(np.array([marginal.sample() for _ in range(2000)]))"
   ]
  },
  {
   "cell_type": "markdown",
   "id": "attractive-foster",
   "metadata": {},
   "source": [
    "Reasoning about complex queries, e.g.: \"how likely a team of Bob and Mary is to beat a team of Jim and Sue, given that Mary is at least as strong as sue, and Bob beat Jim in a previous direct match up\"?"
   ]
  },
  {
   "cell_type": "code",
   "execution_count": 7,
   "id": "collected-deployment",
   "metadata": {},
   "outputs": [
    {
     "data": {
      "text/plain": [
       "<AxesSubplot:ylabel='Count'>"
      ]
     },
     "execution_count": 7,
     "metadata": {},
     "output_type": "execute_result"
    },
    {
     "data": {
      "image/png": "[encoded data removed]",
      "text/plain": [
       "<Figure size 432x288 with 1 Axes>"
      ]
     },
     "metadata": {
      "needs_background": "light"
     },
     "output_type": "display_data"
    }
   ],
   "source": [
    "def model2():\n",
    "    @functools.lru_cache(maxsize=128)\n",
    "    def strength(person):\n",
    "        return torch.abs(pyro.sample(\"s_{}\".format(person), dist.Normal(1,1)))\n",
    "\n",
    "    def lazy(person, rnd):\n",
    "        return pyro.sample(\"l_{}_{}\".format(person, rnd), dist.Bernoulli(1/3))\n",
    "\n",
    "    def pulling(person, rnd):\n",
    "        if lazy(person, rnd)==1.:\n",
    "            return strength(person)/2\n",
    "        else:\n",
    "            return strength(person)\n",
    "\n",
    "    def totalPulling(team, rnd):\n",
    "        return torch.sum(torch.tensor([pulling(i, rnd) for i in team]))\n",
    "\n",
    "    def winner(team1, team2, rnd):\n",
    "        if totalPulling(team1, rnd) > totalPulling(team2, rnd):\n",
    "            return team1\n",
    "        else:\n",
    "            return team2\n",
    "\n",
    "    def beat(team1, team2, rnd):\n",
    "        if winner(team1, team2, rnd)==team1:\n",
    "            return torch.tensor(1.)\n",
    "        else:\n",
    "            return torch.tensor(0.)\n",
    "    \n",
    "    str1 = torch.tensor(float(strength('mary')>=strength('sue')))\n",
    "    beat1 = beat(['bob'], ['jim'],1)\n",
    "    \n",
    "    pyro.sample(\"str1\", dist.Bernoulli(.9999), obs=str1)\n",
    "    pyro.sample(\"beat1\", dist.Bernoulli(.9999), obs=beat1)\n",
    "    \n",
    "    return beat(['bob','mary'], ['jim','sue'], 2)\n",
    "\n",
    "## seems to work with importance sampling, not requiring mcmc?\n",
    "posterior = Importance(model2, num_samples=2500)\n",
    "marginal = EmpiricalMarginal(posterior.run())\n",
    "\n",
    "sns.histplot(np.array([marginal.sample() for _ in range(1000)]))"
   ]
  },
  {
   "cell_type": "markdown",
   "id": "optical-visitor",
   "metadata": {},
   "source": [
    "## Exact inference with discrete Bayesian networks\n",
    "\n",
    "The next section of probmods is an example of causal inference in medical diagnosis using Causal bayes nets. Because we're dealing with discrete causes, this is a good context for testing exact inference with discrete methods in `pyro`.\n",
    "\n",
    "\n",
    "```javascript\n",
    "//original webPPL code\n",
    "var cancerDist = Infer({method: 'enumerate'},\n",
    "  function () {\n",
    "    var breastCancer = flip(0.01)\n",
    "    var positiveMammogram = breastCancer ? flip(0.8) : flip(0.096)\n",
    "    condition(positiveMammogram)\n",
    "    return {breastCancer: breastCancer}\n",
    "})\n",
    "viz(cancerDist)\n",
    "```"
   ]
  },
  {
   "cell_type": "markdown",
   "id": "dressed-drive",
   "metadata": {},
   "source": [
    "In the webppl example they use exact inference by running the `Infer({method: \"enumerate\"}, ...` method. Pyro is heavily geared around approximate inference, but it can do exact inference as well, as well as enumerating out discrete factors among a larger approximate inference approach. So you can do NUTS and SVI with a few discrete factors included as well. That's a pretty cool advantage over Stan and other implementations.\n",
    "\n",
    "The pyro docs are not very clear, but [this example](https://forum.pyro.ai/t/obtain-conditional-probabilities-for-discrete-variables/1236/2) from the forums illustrates how to do this. \n",
    "\n",
    "Below I try out both exact and approximate inference for this model."
   ]
  },
  {
   "cell_type": "code",
   "execution_count": 9,
   "id": "upper-snapshot",
   "metadata": {},
   "outputs": [
    {
     "name": "stdout",
     "output_type": "stream",
     "text": [
      "exact p(Cancer = 1|positiveMammogram) = 0.0776\n",
      "est. p(Cancer = 1|positiveMammogram) = 0.0570\n"
     ]
    },
    {
     "data": {
      "text/plain": [
       "<AxesSubplot:ylabel='Count'>"
      ]
     },
     "execution_count": 9,
     "metadata": {},
     "output_type": "execute_result"
    },
    {
     "data": {
      "image/png": "[encoded data removed]",
      "text/plain": [
       "<Figure size 432x288 with 1 Axes>"
      ]
     },
     "metadata": {
      "needs_background": "light"
     },
     "output_type": "display_data"
    }
   ],
   "source": [
    "pyro.clear_param_store()\n",
    "\n",
    "## use config_enumerate decorator\n",
    "@pyro.infer.config_enumerate\n",
    "def model():\n",
    "    breastCancer = pyro.sample(\"breastCancer\", dist.Bernoulli(.01))\n",
    "    p_pos = torch.where(breastCancer.bool(), .8, .096) # <--- note this is the right way to do this\n",
    "    pyro.sample(\"positiveMammogram\", dist.Bernoulli(p_pos))\n",
    "    return breastCancer\n",
    "\n",
    "def guide(**kwargs):\n",
    "    pass\n",
    "\n",
    "# the TraceEnum_ELBO function enumerates out discrete variables\n",
    "elbo = pyro.infer.TraceEnum_ELBO(max_plate_nesting=1)\n",
    "p_cpos = pyro.condition(model, data={\"positiveMammogram\":torch.tensor(1.)})\n",
    "conditional_marginal = elbo.compute_marginals(p_cpos, guide)\n",
    "\n",
    "print(\"exact p(Cancer = 1|positiveMammogram) = {:.4f}\".format(\n",
    "    float(conditional_marginal[\"breastCancer\"].probs))\n",
    "     )\n",
    "\n",
    "# can also use approximate inference\n",
    "posterior = Importance(p_cpos, num_samples=2000)\n",
    "marginal = EmpiricalMarginal(posterior.run())\n",
    "\n",
    "print(\"est. p(Cancer = 1|positiveMammogram) = {:.4f}\".format(\n",
    "    np.mean([marginal.sample() for _ in range(2000)]))\n",
    "     )\n",
    "sns.histplot(np.array([marginal.sample() for _ in range(2000)]))\n",
    "\n",
    "\n"
   ]
  },
  {
   "cell_type": "markdown",
   "id": "designing-dylan",
   "metadata": {},
   "source": [
    "Can represent these same statistical relations as a causal model with another possible cause of positive mammogram results. Note that the `noisy_or()` function is a bit clumsy to write as the number of possible causes increase. In this simple case it's much more direct to just analytically compute the probability, but I also ran into difficulty implementing this in a way that made torch happy.\n",
    "\n",
    "```javascript\n",
    "//original webPPL code\n",
    "var cancerDist = Infer({method: 'enumerate'},\n",
    "  function () {\n",
    "    var breastCancer = flip(0.01)\n",
    "    var benignCyst = flip(0.2)\n",
    "    var positiveMammogram = (breastCancer && flip(0.8)) || (benignCyst && flip(0.5))\n",
    "    condition(positiveMammogram)\n",
    "    return {breastCancer: breastCancer}\n",
    "});\n",
    "viz(cancerDist)\n",
    "```"
   ]
  },
  {
   "cell_type": "code",
   "execution_count": 50,
   "id": "dedicated-paper",
   "metadata": {},
   "outputs": [
    {
     "name": "stdout",
     "output_type": "stream",
     "text": [
      "exact p(Cancer = 1|positiveMammogram) = 0.0764\n"
     ]
    }
   ],
   "source": [
    "pyro.clear_param_store()\n",
    "\n",
    "@pyro.infer.config_enumerate\n",
    "def model():\n",
    "    \n",
    "    def noisy_or(a,b):\n",
    "        return torch.logical_or(\n",
    "            torch.logical_and(a, pyro.sample(\"c1\", dist.Bernoulli(.8))),\n",
    "            torch.logical_and(b, pyro.sample(\"c2\", dist.Bernoulli(.5)))\n",
    "        ).float()\n",
    "\n",
    "    breastCancer = pyro.sample(\"breastCancer\", dist.Bernoulli(.01))\n",
    "    benignCyst = pyro.sample(\"benignCyst\", dist.Bernoulli(.2))\n",
    "    pyro.sample(\"positiveMammogram\", dist.Bernoulli(.9999), obs = noisy_or(breastCancer, benignCyst))\n",
    "    \n",
    "    return breastCancer\n",
    "\n",
    "elbo = pyro.infer.TraceEnum_ELBO(max_plate_nesting=1)\n",
    "conditional_marginal = elbo.compute_marginals(model, guide)\n",
    "\n",
    "print(\"exact p(Cancer = 1|positiveMammogram) = {:.4f}\".format(\n",
    "    float(conditional_marginal[\"breastCancer\"].probs))\n",
    "     )"
   ]
  },
  {
   "cell_type": "code",
   "execution_count": null,
   "id": "afraid-arkansas",
   "metadata": {},
   "outputs": [],
   "source": []
  }
 ],
 "metadata": {
  "kernelspec": {
   "display_name": "Python 3",
   "language": "python",
   "name": "python3"
  },
  "language_info": {
   "codemirror_mode": {
    "name": "ipython",
    "version": 3
   },
   "file_extension": ".py",
   "mimetype": "text/x-python",
   "name": "python",
   "nbconvert_exporter": "python",
   "pygments_lexer": "ipython3",
   "version": "3.8.8"
  }
 },
 "nbformat": 4,
 "nbformat_minor": 5
}
