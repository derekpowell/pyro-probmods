{
 "cells": [
  {
   "cell_type": "markdown",
   "id": "sound-dollar",
   "metadata": {},
   "source": [
    "# Inferring priors for causal learning\n",
    "\n",
    "Researchers studying causal learning most commonly examine how people learn causal relationships from observing covarations among events. This has borne a lot of fruit and touched on some deep philosophical issues about the nature of causality (e.g., it’s all in our heads!). However, little of the causal knowledge that most people actually possess is achieved in this way. Instead, most of our causal knowledge comes from what others tell us about the world. Of course, people rarely convey causal information like, “the causal power of aspirin to reduce headaches is .25.” Instead, we communicate more vague information, like “aspirin helps with headaches.” Moreover, we communicate and possess even more abstract understandings of how different types of causal entities interact and how different different causal mechanisms operate, that let us draw inferences about specific causal relationships from generalities. How do these forms of knowledge interact in our causal inferences?\n",
    "\n",
    "This is a preliminary exploration for a project I’m considering that would examine how mechanistic understandings or explanations might shape people’s priors about causal relationships. The idea is that our abstract understanding of causal mechanisms could be expressed as different priors about the possible strengths of causal relationships. Given different cover stories suggesting different potential mechanisms, we should expect different kinds of observations. \n",
    "\n",
    "With that, the idea is to use numpyro to combine __bayesian cognitive modeling and bayesian data analysis__ to infer causal learner’s domain-specific priors based on their responses in a causal learning task. This would begin to suggest ways in which we might connect these two forms of causal knowledge.\n",
    "\n",
    "This notebook is a preliminary proof-of-concept test to see whether this kind of approach could work. In this notebook, I’ll simulate some causal power estimates with a model of a causal learner. I’ll simulate data for two different sets of contingency data and with priors for two different contexts. Then, I’ll do bayesian data analysis over the bayesian cognitive model and we’ll see how well we can recover the original parameters."
   ]
  },
  {
   "cell_type": "code",
   "execution_count": 1,
   "id": "palestinian-morning",
   "metadata": {},
   "outputs": [],
   "source": [
    "import numpyro\n",
    "numpyro.enable_x64()\n",
    "\n",
    "import numpyro.distributions as dist\n",
    "from numpyro import handlers\n",
    "from numpyro.infer import  MCMC, SA, Predictive, NUTS, DiscreteHMCGibbs, SVI, Trace_ELBO\n",
    "from numpyro.infer.autoguide import AutoLaplaceApproximation, AutoMultivariateNormal\n",
    "\n",
    "import numpy as np\n",
    "import jax.numpy as jnp\n",
    "import jax\n",
    "from jax.random import PRNGKey\n",
    "from jax.scipy.special import expit, logit\n",
    "\n",
    "from tensorflow_probability import distributions as tfdist\n",
    "\n",
    "import seaborn as sns\n",
    "import functools\n",
    "import pandas as pd\n",
    "\n",
    "def make_random(fn):\n",
    "    key = jax.random.PRNGKey(np.random.randint(0, 1e6))\n",
    "    return handlers.seed(fn, rng_seed=key)\n",
    "\n",
    "def repeat_func(n, fn, *args):\n",
    "    return jnp.stack([fn(*args) for _ in range(0,n)])\n",
    "\n",
    "def laplace_approx(model, *args):\n",
    "    guide = AutoLaplaceApproximation(model)\n",
    "    optimizer = numpyro.optim.Minimize()\n",
    "    svi = SVI(model, guide, optimizer, Trace_ELBO())\n",
    "    init_state = svi.init(PRNGKey(0), *args)\n",
    "    optimal_state, loss = svi.update(init_state, *args)\n",
    "    return guide.get_posterior(svi.get_params(optimal_state))\n",
    "\n",
    "def MVNorm_approx(model, *args):\n",
    "    guide = AutoMultivariateNormal(model)\n",
    "    optimizer = numpyro.optim.Adagrad(step_size=.1)\n",
    "    svi = SVI(model, guide, optimizer, Trace_ELBO())\n",
    "    result = svi.run(PRNGKey(0), 3000, *args, progress_bar=False)\n",
    "    transform = guide.get_transform(result.params)\n",
    "    raw_posterior = guide.get_posterior(result.params)\n",
    "    \n",
    "    return raw_posterior"
   ]
  },
  {
   "cell_type": "markdown",
   "id": "monetary-hypothetical",
   "metadata": {},
   "source": [
    "# Simulate Responses\n",
    "\n",
    "As an example, here I sample the posterior over expected occurrences of some effect E, given cause C and background causes B, after learning the contingency data where the effect occurs 2/10 times when the cause is not present, and 9/10 times when the cause is present.\n",
    "\n",
    "I'll use MCMC to sample from the causal learner's posterior, first with a uniform prior to see the \"true\" (unbiased) causal powers."
   ]
  },
  {
   "cell_type": "code",
   "execution_count": 2,
   "id": "substantial-trust",
   "metadata": {},
   "outputs": [],
   "source": [
    "contingencies = {\n",
    "    \"C\":jnp.array([0,1]), \n",
    "    \"effect\":jnp.array([2,9]), \n",
    "    \"N\":jnp.array([10,10])\n",
    "}\n",
    "\n",
    "def powerPCprob(c, wc, wb):\n",
    "    # c: 0 or 1    # wc: [0,1]    # wB: [0,1]\n",
    "    return c*wc + wb - c*wc*wb\n",
    "\n",
    "prior_uniform = (1,1)\n",
    "prior_weak = (2,5)\n",
    "prior_strong = (5,2)\n",
    "\n",
    "def observerModel(prior_tuple, contingencies):\n",
    "    # priors = distribution object\n",
    "    # contingencies = dict\n",
    "    cause = contingencies[\"C\"]\n",
    "    effect = contingencies[\"effect\"]\n",
    "    N = contingencies[\"N\"]\n",
    "\n",
    "    wc = numpyro.sample(\"wc\", dist.Beta(*prior_tuple))\n",
    "    wb = numpyro.sample(\"wb\", dist.Beta(1,1))\n",
    "    prob = powerPCprob(cause, wc, wb)\n",
    "    with numpyro.plate(\"obs\", len(cause)):\n",
    "        numpyro.sample(\"cmodel\", dist.Binomial(N, prob), obs=effect)    \n"
   ]
  },
  {
   "cell_type": "code",
   "execution_count": 3,
   "id": "elder-discovery",
   "metadata": {},
   "outputs": [
    {
     "name": "stderr",
     "output_type": "stream",
     "text": [
      "sample: 100%|██████████| 1000/1000 [00:02<00:00, 411.34it/s, 3 steps of size 9.14e-01. acc. prob=0.86]\n"
     ]
    }
   ],
   "source": [
    "kernel = NUTS(observerModel, target_accept_prob=.80)\n",
    "posterior = MCMC(kernel, 500, 500, num_chains=1)\n",
    "\n",
    "posterior.run(PRNGKey(0), prior_uniform, contingencies)"
   ]
  },
  {
   "cell_type": "code",
   "execution_count": 4,
   "id": "twenty-roots",
   "metadata": {},
   "outputs": [
    {
     "name": "stdout",
     "output_type": "stream",
     "text": [
      "\n",
      "                mean       std    median      5.0%     95.0%     n_eff     r_hat\n",
      "        wb      0.28      0.13      0.26      0.06      0.47    426.62      1.00\n",
      "        wc      0.76      0.15      0.79      0.55      1.00    327.98      1.00\n",
      "\n",
      "Number of divergences: 0\n"
     ]
    }
   ],
   "source": [
    "posterior.print_summary()"
   ]
  },
  {
   "cell_type": "markdown",
   "id": "rolled-convertible",
   "metadata": {},
   "source": [
    "And we get the same results by laplace approximation for this simple model (modulo sampling error)."
   ]
  },
  {
   "cell_type": "code",
   "execution_count": 5,
   "id": "prime-shock",
   "metadata": {},
   "outputs": [
    {
     "data": {
      "text/plain": [
       "DeviceArray([0.26596262, 0.78139321], dtype=float64)"
      ]
     },
     "execution_count": 5,
     "metadata": {},
     "output_type": "execute_result"
    }
   ],
   "source": [
    "expit(laplace_approx(observerModel, prior_uniform, contingencies).loc)"
   ]
  },
  {
   "cell_type": "markdown",
   "id": "aging-multimedia",
   "metadata": {},
   "source": [
    "I'll fit the model twice for strong and weak priors on $w_c$ and use the posterior to simulate participants responses.\n",
    "\n",
    "For weak priors, I'll assume $w_c \\sim beta(2,5)$ and for strong priors I'll assume  $w_c \\sim beta(5,2)$."
   ]
  },
  {
   "cell_type": "code",
   "execution_count": 6,
   "id": "other-caribbean",
   "metadata": {},
   "outputs": [
    {
     "name": "stderr",
     "output_type": "stream",
     "text": [
      "sample: 100%|██████████| 1000/1000 [00:02<00:00, 394.68it/s, 3 steps of size 7.23e-01. acc. prob=0.92]\n"
     ]
    },
    {
     "name": "stdout",
     "output_type": "stream",
     "text": [
      "\n",
      "                mean       std    median      5.0%     95.0%     n_eff     r_hat\n",
      "        wb      0.34      0.14      0.34      0.13      0.57    323.86      1.00\n",
      "        wc      0.51      0.17      0.50      0.24      0.78    154.56      1.00\n",
      "\n",
      "Number of divergences: 0\n"
     ]
    }
   ],
   "source": [
    "posterior_weak = MCMC(NUTS(observerModel, target_accept_prob=.80), 500, 500, num_chains=1)\n",
    "posterior_weak.run(PRNGKey(0), prior_weak, contingencies)\n",
    "\n",
    "posterior_weak.print_summary()"
   ]
  },
  {
   "cell_type": "code",
   "execution_count": 7,
   "id": "fitted-indication",
   "metadata": {},
   "outputs": [
    {
     "name": "stderr",
     "output_type": "stream",
     "text": [
      "sample: 100%|██████████| 1000/1000 [00:02<00:00, 392.28it/s, 3 steps of size 7.94e-01. acc. prob=0.91]\n"
     ]
    },
    {
     "name": "stdout",
     "output_type": "stream",
     "text": [
      "\n",
      "                mean       std    median      5.0%     95.0%     n_eff     r_hat\n",
      "        wb      0.27      0.12      0.26      0.08      0.44    370.87      1.00\n",
      "        wc      0.79      0.11      0.80      0.64      0.96    324.55      1.00\n",
      "\n",
      "Number of divergences: 0\n"
     ]
    }
   ],
   "source": [
    "posterior_strong = MCMC(NUTS(observerModel, target_accept_prob=.80), 500, 500, num_chains=1)\n",
    "posterior_strong.run(PRNGKey(0), prior_strong, contingencies)\n",
    "\n",
    "posterior_strong.print_summary()"
   ]
  },
  {
   "cell_type": "markdown",
   "id": "quick-prescription",
   "metadata": {},
   "source": [
    "Below are some plots of the posteriors on $w_c$ for strong and weak priors."
   ]
  },
  {
   "cell_type": "code",
   "execution_count": 8,
   "id": "close-business",
   "metadata": {},
   "outputs": [
    {
     "data": {
      "text/plain": [
       "<AxesSubplot:ylabel='Count'>"
      ]
     },
     "execution_count": 8,
     "metadata": {},
     "output_type": "execute_result"
    },
    {
     "data": {
      "image/png": "[encoded data removed]",
      "text/plain": [
       "<Figure size 432x288 with 1 Axes>"
      ]
     },
     "metadata": {
      "needs_background": "light"
     },
     "output_type": "display_data"
    }
   ],
   "source": [
    "c_resp_weak = posterior_weak.get_samples()[\"wc\"]\n",
    "b_resp_weak = posterior_weak.get_samples()[\"wb\"]\n",
    "\n",
    "c_resp_strong = posterior_strong.get_samples()[\"wc\"]\n",
    "b_resp_strong = posterior_strong.get_samples()[\"wb\"]\n",
    "\n",
    "sns.histplot(c_resp_strong)"
   ]
  },
  {
   "cell_type": "code",
   "execution_count": 9,
   "id": "opened-chrome",
   "metadata": {},
   "outputs": [
    {
     "data": {
      "text/plain": [
       "<AxesSubplot:ylabel='Count'>"
      ]
     },
     "execution_count": 9,
     "metadata": {},
     "output_type": "execute_result"
    },
    {
     "data": {
      "image/png": "[encoded data removed]",
      "text/plain": [
       "<Figure size 432x288 with 1 Axes>"
      ]
     },
     "metadata": {
      "needs_background": "light"
     },
     "output_type": "display_data"
    }
   ],
   "source": [
    "sns.histplot(c_resp_weak)"
   ]
  },
  {
   "cell_type": "markdown",
   "id": "differential-silicon",
   "metadata": {},
   "source": [
    "# Inferring priors from responses\n",
    "\n",
    "Now we’ll do bayesian data analysis over our bayesian cognitive model, and see if we can recover the parameters of the prior distributions."
   ]
  },
  {
   "cell_type": "code",
   "execution_count": 20,
   "id": "dominant-christopher",
   "metadata": {},
   "outputs": [],
   "source": [
    "data_dict = {\"c_resp\": c_resp_weak[-100:], \"b_resp\": b_resp_weak[-100:]}\n",
    "\n",
    "def model(responses, contingencies):\n",
    "    c_resp = responses[\"c_resp\"]\n",
    "    b_resp = responses[\"b_resp\"]\n",
    "    \n",
    "    a = numpyro.sample(\"a\", dist.HalfCauchy(10))\n",
    "    b = numpyro.sample(\"b\", dist.HalfCauchy(10))\n",
    "    \n",
    "    with handlers.block():\n",
    "        pred_powers = laplace_approx(observerModel, (a, b), contingencies)\n",
    "    \n",
    "    resps = jnp.stack([b_resp, c_resp], axis=-1)\n",
    "    \n",
    "    with numpyro.plate(\"data\", c_resp.shape[0]):\n",
    "        numpyro.sample(\"obs\", pred_powers, obs=logit(resps))"
   ]
  },
  {
   "cell_type": "code",
   "execution_count": 21,
   "id": "affected-london",
   "metadata": {},
   "outputs": [
    {
     "name": "stdout",
     "output_type": "stream",
     "text": [
      "CPU times: user 23.9 s, sys: 99.9 ms, total: 24 s\n",
      "Wall time: 23.9 s\n"
     ]
    }
   ],
   "source": [
    "# posterior = MCMC(NUTS(model), 1_000, 1_000, num_chains=1)\n",
    "posterior = MCMC(SA(model), 20_000, 40_000, num_chains=1, progress_bar=False)\n",
    "%time posterior.run(PRNGKey(0), data_dict, contingencies)"
   ]
  },
  {
   "cell_type": "code",
   "execution_count": 22,
   "id": "static-duration",
   "metadata": {},
   "outputs": [
    {
     "name": "stdout",
     "output_type": "stream",
     "text": [
      "\n",
      "                mean       std    median      5.0%     95.0%     n_eff     r_hat\n",
      "         a      1.21      0.42      1.19      0.48      1.88    671.60      1.00\n",
      "         b      4.90      0.56      4.89      3.94      5.76    681.96      1.00\n",
      "\n",
      "Number of divergences: 0\n"
     ]
    }
   ],
   "source": [
    "posterior.print_summary()"
   ]
  },
  {
   "cell_type": "markdown",
   "id": "accompanied-setup",
   "metadata": {},
   "source": [
    "# Voila!\n",
    "\n",
    "Seems like this is sort of approximately working! I may need to simulate some better/more diagnostic data. And the effective samples are pretty low, but no divergent transitions. Some notes:\n",
    "\n",
    "* Works with my `MVNorm_approx()` and `NUTS` MCMC\n",
    "* Also works with `laplace_approx()` and `SA` MCMC, but gives more biased results (but it's super fast!)\n",
    "* Runs with `laplace_approx()` and `NUTS(..., forward_mode_differentiation=True)` but gives totally messed up results."
   ]
  },
  {
   "cell_type": "code",
   "execution_count": null,
   "id": "infinite-admission",
   "metadata": {},
   "outputs": [],
   "source": []
  }
 ],
 "metadata": {
  "kernelspec": {
   "display_name": "Python 3",
   "language": "python",
   "name": "python3"
  },
  "language_info": {
   "codemirror_mode": {
    "name": "ipython",
    "version": 3
   },
   "file_extension": ".py",
   "mimetype": "text/x-python",
   "name": "python",
   "nbconvert_exporter": "python",
   "pygments_lexer": "ipython3",
   "version": "3.8.8"
  }
 },
 "nbformat": 4,
 "nbformat_minor": 5
}
